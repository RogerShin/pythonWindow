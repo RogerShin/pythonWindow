{
 "cells": [
  {
   "cell_type": "code",
   "execution_count": 1,
   "metadata": {},
   "outputs": [
    {
     "name": "stdout",
     "output_type": "stream",
     "text": [
      "29c4f184354b9889e87f7b494ac86aed\n"
     ]
    }
   ],
   "source": [
    "import private\n",
    "print(private.secret.open_weather_key)"
   ]
  },
  {
   "cell_type": "code",
   "execution_count": 5,
   "metadata": {},
   "outputs": [
    {
     "data": {
      "text/plain": [
       "'https://api.openweathermap.org/data/2.5/forecast?q=Hualien,tw&APPID=29c4f184354b9889e87f7b494ac86aed&lang=zh_tw&units=metric'"
      ]
     },
     "execution_count": 5,
     "metadata": {},
     "output_type": "execute_result"
    }
   ],
   "source": [
    "api_key = private.secret.open_weather_key\n",
    "url = f\"https://api.openweathermap.org/data/2.5/forecast?q=Hualien,tw&APPID={api_key}&lang=zh_tw&units=metric\"\n",
    "url"
   ]
  },
  {
   "cell_type": "code",
   "execution_count": null,
   "metadata": {},
   "outputs": [],
   "source": [
    "tw_county_names = {\"台北\":\"Taipei\",\n",
    "                   \"台中\":\"Taichung\",\n",
    "                   \"基隆\":\"Keelung\",\n",
    "                   \"台南\":\"Tainan\",\n",
    "                   \"高雄\":\"Kaohsiung\",\n",
    "                   \"新北\":\"New Taipei\",\n",
    "                   \"宜蘭\":\"Yilan\",\n",
    "                   \"桃園\":\"Taoyuan\",\n",
    "                   \"嘉義\":\"Chiayi\",\n",
    "                   \"新竹\":\"Hsinchu\",\n",
    "                   \"苗栗\":\"Miaoli\",\n",
    "                   \"南投\":\"Nantou\",\n",
    "                   \"彰化\":\"Changhua\",\n",
    "                   \"雲林\":\"Yunlin\",\n",
    "                   \"屏東\":\"Pingtung\",\n",
    "                   \"花蓮\":\"Hualien\",\n",
    "                   \"台東\":\"Taitung\",\n",
    "                   \"金門\":\"Kinmen\",\n",
    "                   \"澎湖\":\"Penghu\",\n",
    "                   \"連江\":\"Lienchiang\"\n",
    "                   }\n"
   ]
  }
 ],
 "metadata": {
  "kernelspec": {
   "display_name": "Python 3.10.6 ('venv19')",
   "language": "python",
   "name": "python3"
  },
  "language_info": {
   "codemirror_mode": {
    "name": "ipython",
    "version": 3
   },
   "file_extension": ".py",
   "mimetype": "text/x-python",
   "name": "python",
   "nbconvert_exporter": "python",
   "pygments_lexer": "ipython3",
   "version": "3.10.6"
  },
  "orig_nbformat": 4,
  "vscode": {
   "interpreter": {
    "hash": "4f941437d57421d24656cc4334eb2d0088239cd96c7c5c97e02f71386fd2d924"
   }
  }
 },
 "nbformat": 4,
 "nbformat_minor": 2
}
