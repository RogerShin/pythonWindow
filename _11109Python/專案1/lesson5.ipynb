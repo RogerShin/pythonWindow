{
 "cells": [
  {
   "cell_type": "code",
   "execution_count": 5,
   "metadata": {},
   "outputs": [
    {
     "name": "stdout",
     "output_type": "stream",
     "text": [
      "(1, 2, 'a', 'b', 3.5, 9)\n"
     ]
    }
   ],
   "source": [
    "def print_args(*args):\n",
    "    print(args)\n",
    "\n",
    "arg = [1, 2, 'a', 'b', 3.5, 9]\n",
    "print_args(*arg)"
   ]
  },
  {
   "cell_type": "code",
   "execution_count": 4,
   "metadata": {},
   "outputs": [
    {
     "name": "stdout",
     "output_type": "stream",
     "text": [
      "1-2-a-b-3.5-True."
     ]
    }
   ],
   "source": [
    "print(1, 2, 'a', 'b' , 3.5, True,sep=\"-\",end='.')"
   ]
  },
  {
   "cell_type": "code",
   "execution_count": 8,
   "metadata": {},
   "outputs": [
    {
     "name": "stdout",
     "output_type": "stream",
     "text": [
      "姓名: robert\n",
      "age: 34\n",
      "{}\n",
      "==========\n",
      "姓名: jenny\n",
      "age: 20\n",
      "{'a': 1, 'b': 2, 'c': 3, 'd': 4, 'e': 5}\n",
      "==========\n"
     ]
    }
   ],
   "source": [
    "def person(name, age, **kwargs):\n",
    "    print(\"姓名:\",name)\n",
    "    print(\"age:\",age)\n",
    "    print(kwargs)\n",
    "    print(\"==========\")\n",
    "\n",
    "\n",
    "person(\"robert\",34)\n",
    "person(\"jenny\",20,a=1, b=2, c=3, d=4, e=5)"
   ]
  },
  {
   "cell_type": "code",
   "execution_count": 9,
   "metadata": {},
   "outputs": [
    {
     "name": "stdout",
     "output_type": "stream",
     "text": [
      "姓名: robert\n",
      "age: 34\n",
      "{}\n",
      "==========\n",
      "姓名: jenny\n",
      "age: 20\n",
      "{'a': 1, 'b': 2, 'c': 3, 'd': 4, 'e': 5}\n",
      "==========\n"
     ]
    }
   ],
   "source": [
    "def person(name, age, **kwargs):\n",
    "    print(\"姓名:\",name)\n",
    "    print(\"age:\",age)\n",
    "    print(kwargs)\n",
    "    print(\"==========\")\n",
    "\n",
    "\n",
    "person(\"robert\",34)\n",
    "dict = {'a':1, 'b':2, 'c':3, 'd':4, 'e':5}\n",
    "person(\"jenny\",20,**dict)"
   ]
  }
 ],
 "metadata": {
  "kernelspec": {
   "display_name": "Python 3.10.6 ('venv15')",
   "language": "python",
   "name": "python3"
  },
  "language_info": {
   "codemirror_mode": {
    "name": "ipython",
    "version": 3
   },
   "file_extension": ".py",
   "mimetype": "text/x-python",
   "name": "python",
   "nbconvert_exporter": "python",
   "pygments_lexer": "ipython3",
   "version": "3.10.6"
  },
  "orig_nbformat": 4,
  "vscode": {
   "interpreter": {
    "hash": "9ee8c8fe053f2d88e4e155bb1017a74ee64346053de920efba851c51bc29878e"
   }
  }
 },
 "nbformat": 4,
 "nbformat_minor": 2
}
