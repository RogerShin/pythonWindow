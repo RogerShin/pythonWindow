{
 "cells": [
  {
   "cell_type": "code",
   "execution_count": 22,
   "metadata": {},
   "outputs": [],
   "source": [
    "class Person():\n",
    "    def __init__(self,name,age):\n",
    "        #attribute\n",
    "        self.name = name\n",
    "        self.age = age\n",
    "    \n",
    "    #實體的method\n",
    "    def shout(self):\n",
    "        print(f\"我的名字叫{self.name}\")\n",
    "        print(f\"我的age是{self.age}\")\n",
    "\n"
   ]
  },
  {
   "cell_type": "code",
   "execution_count": 23,
   "metadata": {},
   "outputs": [
    {
     "name": "stdout",
     "output_type": "stream",
     "text": [
      "我的名字叫robert\n",
      "我的age是35\n"
     ]
    }
   ],
   "source": [
    "p1 = Person(\"robert\",35)\n",
    "p1.shout()"
   ]
  },
  {
   "cell_type": "code",
   "execution_count": 24,
   "metadata": {},
   "outputs": [
    {
     "name": "stdout",
     "output_type": "stream",
     "text": [
      "我的名字叫jenny\n",
      "我的age是25\n"
     ]
    }
   ],
   "source": [
    "p2 = Person(\"jenny\",25)\n",
    "p2.shout()\n"
   ]
  }
 ],
 "metadata": {
  "kernelspec": {
   "display_name": "Python 3.10.6 ('venv15')",
   "language": "python",
   "name": "python3"
  },
  "language_info": {
   "codemirror_mode": {
    "name": "ipython",
    "version": 3
   },
   "file_extension": ".py",
   "mimetype": "text/x-python",
   "name": "python",
   "nbconvert_exporter": "python",
   "pygments_lexer": "ipython3",
   "version": "3.10.6"
  },
  "orig_nbformat": 4,
  "vscode": {
   "interpreter": {
    "hash": "9ee8c8fe053f2d88e4e155bb1017a74ee64346053de920efba851c51bc29878e"
   }
  }
 },
 "nbformat": 4,
 "nbformat_minor": 2
}
