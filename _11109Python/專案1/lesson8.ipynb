{
 "cells": [
  {
   "cell_type": "code",
   "execution_count": 8,
   "metadata": {},
   "outputs": [
    {
     "name": "stdout",
     "output_type": "stream",
     "text": [
      "robert\n",
      "戰士\n",
      "魔法師\n"
     ]
    }
   ],
   "source": [
    "class Person():\n",
    "    def __init__(self,name):\n",
    "        self.name = name\n",
    "\n",
    "class Magician(Person):\n",
    "    def __init__(self,name):\n",
    "        super().__init__(name)\n",
    "        self.__rol = \"魔法師\"\n",
    "    \n",
    "    @property\n",
    "    def rol(self):\n",
    "        return self.__rol\n",
    "\n",
    "class Fighter(Person):\n",
    "    def __init__(self,name):\n",
    "        super().__init__(name)\n",
    "        self.__rol = \"戰士\"\n",
    "    \n",
    "    \n",
    "    @property\n",
    "    def rol(self):\n",
    "        return self.__rol\n",
    "\n",
    "fighter1 = Fighter(\"robert\")\n",
    "print(fighter1.name)\n",
    "print(fighter1.rol)\n",
    "#fighter1.rol = \"我不是戰士\"\n",
    "\n",
    "magician1 = Magician(\"alice\")\n",
    "print(magician1.rol)\n",
    "\n",
    "    "
   ]
  }
 ],
 "metadata": {
  "kernelspec": {
   "display_name": "Python 3.10.6 ('venv15')",
   "language": "python",
   "name": "python3"
  },
  "language_info": {
   "codemirror_mode": {
    "name": "ipython",
    "version": 3
   },
   "file_extension": ".py",
   "mimetype": "text/x-python",
   "name": "python",
   "nbconvert_exporter": "python",
   "pygments_lexer": "ipython3",
   "version": "3.10.6"
  },
  "orig_nbformat": 4,
  "vscode": {
   "interpreter": {
    "hash": "9ee8c8fe053f2d88e4e155bb1017a74ee64346053de920efba851c51bc29878e"
   }
  }
 },
 "nbformat": 4,
 "nbformat_minor": 2
}
