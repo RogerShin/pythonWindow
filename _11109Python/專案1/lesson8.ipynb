{
 "cells": [
  {
   "cell_type": "code",
   "execution_count": 7,
   "metadata": {},
   "outputs": [
    {
     "name": "stdout",
     "output_type": "stream",
     "text": [
      "robert\n",
      "戰士\n"
     ]
    },
    {
     "ename": "AttributeError",
     "evalue": "can't set attribute 'rol'",
     "output_type": "error",
     "traceback": [
      "\u001b[0;31m---------------------------------------------------------------------------\u001b[0m",
      "\u001b[0;31mAttributeError\u001b[0m                            Traceback (most recent call last)",
      "Cell \u001b[0;32mIn [7], line 22\u001b[0m\n\u001b[1;32m     20\u001b[0m \u001b[39mprint\u001b[39m(fighter1\u001b[39m.\u001b[39mname)\n\u001b[1;32m     21\u001b[0m \u001b[39mprint\u001b[39m(fighter1\u001b[39m.\u001b[39mrol)\n\u001b[0;32m---> 22\u001b[0m fighter1\u001b[39m.\u001b[39;49mrol \u001b[39m=\u001b[39m \u001b[39m\"\u001b[39m\u001b[39m我不是戰士\u001b[39m\u001b[39m\"\u001b[39m\n",
      "\u001b[0;31mAttributeError\u001b[0m: can't set attribute 'rol'"
     ]
    }
   ],
   "source": [
    "class Person():\n",
    "    def __init__(self,name):\n",
    "        self.name = name\n",
    "\n",
    "class Magician(Person):\n",
    "    def __init__(self,name):\n",
    "        super().__init__(name)\n",
    "        self.rol = \"魔法師\"\n",
    "\n",
    "class Fighter(Person):\n",
    "    def __init__(self,name):\n",
    "        super().__init__(name)\n",
    "        self.__rol = \"戰士\"\n",
    "    \n",
    "    \n",
    "    @property\n",
    "    def rol(self):\n",
    "        return self.__rol\n",
    "\n",
    "fighter1 = Fighter(\"robert\")\n",
    "print(fighter1.name)\n",
    "print(fighter1.rol)\n",
    "#fighter1.rol = \"我不是戰士\"\n",
    "\n",
    "    "
   ]
  }
 ],
 "metadata": {
  "kernelspec": {
   "display_name": "Python 3.10.6 ('venv15')",
   "language": "python",
   "name": "python3"
  },
  "language_info": {
   "codemirror_mode": {
    "name": "ipython",
    "version": 3
   },
   "file_extension": ".py",
   "mimetype": "text/x-python",
   "name": "python",
   "nbconvert_exporter": "python",
   "pygments_lexer": "ipython3",
   "version": "3.10.6"
  },
  "orig_nbformat": 4,
  "vscode": {
   "interpreter": {
    "hash": "9ee8c8fe053f2d88e4e155bb1017a74ee64346053de920efba851c51bc29878e"
   }
  }
 },
 "nbformat": 4,
 "nbformat_minor": 2
}
