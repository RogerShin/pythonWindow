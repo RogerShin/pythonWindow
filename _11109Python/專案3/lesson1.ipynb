{
 "cells": [
  {
   "cell_type": "code",
   "execution_count": null,
   "metadata": {},
   "outputs": [],
   "source": []
  }
 ],
 "metadata": {
  "kernelspec": {
   "display_name": "Python 3.10.6 ('venv02')",
   "language": "python",
   "name": "python3"
  },
  "language_info": {
   "name": "python",
   "version": "3.10.6"
  },
  "orig_nbformat": 4,
  "vscode": {
   "interpreter": {
    "hash": "ec0a055756b83330422d5482d4224b3188331e7f819c0c02c3ab9bd9bd1d6f66"
   }
  }
 },
 "nbformat": 4,
 "nbformat_minor": 2
}
