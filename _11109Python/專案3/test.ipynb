{
 "cells": [
  {
   "cell_type": "code",
   "execution_count": 9,
   "metadata": {},
   "outputs": [
    {
     "name": "stdout",
     "output_type": "stream",
     "text": [
      "我的姓名:robert\n",
      "我的age:25\n",
      "我的姓名:jenny\n",
      "我的age:22\n"
     ]
    }
   ],
   "source": [
    "class Student:\n",
    "    def __init__(self,n,a,**kwargs):\n",
    "        self.name  = n\n",
    "        self.age = a\n",
    "\n",
    "\n",
    "    def echo(self):\n",
    "        print(f\"我的姓名:{self.name}\")\n",
    "        print(f\"我的age:{self.age}\")\n",
    "\n",
    "stu1 = Student(\"robert\", 25)\n",
    "stu1.echo()\n",
    "\n",
    "\n",
    "stu2 = Student(\"jenny\",22)\n",
    "stu2.echo()\n",
    "\n"
   ]
  },
  {
   "cell_type": "code",
   "execution_count": 10,
   "metadata": {},
   "outputs": [
    {
     "name": "stdout",
     "output_type": "stream",
     "text": [
      "我的姓名:robert\n",
      "我的age:23\n",
      "我的level:3\n"
     ]
    }
   ],
   "source": [
    "class SmallStudent(Student):\n",
    "    def __init__(self,n,a,level,**kwargs):        \n",
    "        super().__init__(n,a,**kwargs)\n",
    "        self.level = level\n",
    "\n",
    "    def echo(self):\n",
    "        super().echo();\n",
    "        print(f\"我的level:{self.level}\")\n",
    "\n",
    "small_stu1 = SmallStudent(\"robert\",23,3)\n",
    "small_stu1.echo()\n",
    "        "
   ]
  }
 ],
 "metadata": {
  "kernelspec": {
   "display_name": "venv02",
   "language": "python",
   "name": "python3"
  },
  "language_info": {
   "codemirror_mode": {
    "name": "ipython",
    "version": 3
   },
   "file_extension": ".py",
   "mimetype": "text/x-python",
   "name": "python",
   "nbconvert_exporter": "python",
   "pygments_lexer": "ipython3",
   "version": "3.10.6 (v3.10.6:9c7b4bd164, Aug  1 2022, 17:13:48) [Clang 13.0.0 (clang-1300.0.29.30)]"
  },
  "orig_nbformat": 4,
  "vscode": {
   "interpreter": {
    "hash": "ec0a055756b83330422d5482d4224b3188331e7f819c0c02c3ab9bd9bd1d6f66"
   }
  }
 },
 "nbformat": 4,
 "nbformat_minor": 2
}
