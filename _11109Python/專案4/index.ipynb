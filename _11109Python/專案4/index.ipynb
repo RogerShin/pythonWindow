{
 "cells": [
  {
   "cell_type": "code",
   "execution_count": null,
   "metadata": {},
   "outputs": [],
   "source": []
  }
 ],
 "metadata": {
  "kernelspec": {
   "display_name": "Python 3.10.6 ('venv03')",
   "language": "python",
   "name": "python3"
  },
  "language_info": {
   "name": "python",
   "version": "3.10.6"
  },
  "orig_nbformat": 4,
  "vscode": {
   "interpreter": {
    "hash": "169fce0dedd86dcfde01cc34308108cb4ce66d65ea49f93ea453ab7d5fadc820"
   }
  }
 },
 "nbformat": 4,
 "nbformat_minor": 2
}
