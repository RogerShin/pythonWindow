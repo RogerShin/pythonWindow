{
 "cells": [
  {
   "cell_type": "code",
   "execution_count": 6,
   "metadata": {},
   "outputs": [],
   "source": [
    "import requests\n",
    "url = \"https://www.ytower.com.tw/recipe/iframe-recipe.asp?seq=A03-1644\"\n",
    "response = requests.get(url)\n",
    "response.encoding = 'big5'\n",
    "if response.ok:\n",
    "    html_code = response.text\n",
    "else:\n",
    "    print(\"下載失敗\")"
   ]
  },
  {
   "cell_type": "code",
   "execution_count": 8,
   "metadata": {},
   "outputs": [
    {
     "data": {
      "text/plain": [
       "'宮保雞丁(14)'"
      ]
     },
     "execution_count": 8,
     "metadata": {},
     "output_type": "execute_result"
    }
   ],
   "source": [
    "from bs4 import BeautifulSoup\n",
    "soup = BeautifulSoup(html_code,'html.parser')\n",
    "recipe_groups = soup.find(name=\"div\",id=\"recipe_name\")\n",
    "recipe_groups.get_text()"
   ]
  }
 ],
 "metadata": {
  "kernelspec": {
   "display_name": "Python 3.10.6 ('venv03')",
   "language": "python",
   "name": "python3"
  },
  "language_info": {
   "codemirror_mode": {
    "name": "ipython",
    "version": 3
   },
   "file_extension": ".py",
   "mimetype": "text/x-python",
   "name": "python",
   "nbconvert_exporter": "python",
   "pygments_lexer": "ipython3",
   "version": "3.10.6"
  },
  "orig_nbformat": 4,
  "vscode": {
   "interpreter": {
    "hash": "169fce0dedd86dcfde01cc34308108cb4ce66d65ea49f93ea453ab7d5fadc820"
   }
  }
 },
 "nbformat": 4,
 "nbformat_minor": 2
}
