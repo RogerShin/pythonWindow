{
 "cells": [
  {
   "cell_type": "code",
   "execution_count": 1,
   "id": "29f3b6b7",
   "metadata": {},
   "outputs": [],
   "source": [
    "file = open('oop.txt',mode='w',encoding='utf-8')\n",
    "print(\"喔!建立了一個檔案\",file=file)\n",
    "file.close()"
   ]
  },
  {
   "cell_type": "code",
   "execution_count": 2,
   "id": "9843cb1d",
   "metadata": {},
   "outputs": [
    {
     "data": {
      "text/plain": [
       "True"
      ]
     },
     "execution_count": 2,
     "metadata": {},
     "output_type": "execute_result"
    }
   ],
   "source": [
    "import os\n",
    "os.path.exists('oop.txt')"
   ]
  },
  {
   "cell_type": "code",
   "execution_count": 4,
   "id": "2f6ad494",
   "metadata": {},
   "outputs": [
    {
     "data": {
      "text/plain": [
       "True"
      ]
     },
     "execution_count": 4,
     "metadata": {},
     "output_type": "execute_result"
    }
   ],
   "source": [
    "os.path.exists('./oop.txt')"
   ]
  },
  {
   "cell_type": "code",
   "execution_count": 6,
   "id": "f33a31c6",
   "metadata": {},
   "outputs": [
    {
     "data": {
      "text/plain": [
       "True"
      ]
     },
     "execution_count": 6,
     "metadata": {},
     "output_type": "execute_result"
    }
   ],
   "source": [
    "os.path.exists('.')"
   ]
  },
  {
   "cell_type": "code",
   "execution_count": 7,
   "id": "2c2df534",
   "metadata": {},
   "outputs": [
    {
     "data": {
      "text/plain": [
       "True"
      ]
     },
     "execution_count": 7,
     "metadata": {},
     "output_type": "execute_result"
    }
   ],
   "source": [
    "os.path.exists('..')"
   ]
  },
  {
   "cell_type": "code",
   "execution_count": 8,
   "id": "c0aaee13",
   "metadata": {},
   "outputs": [
    {
     "data": {
      "text/plain": [
       "True"
      ]
     },
     "execution_count": 8,
     "metadata": {},
     "output_type": "execute_result"
    }
   ],
   "source": [
    "os.path.isfile('oop.txt')"
   ]
  },
  {
   "cell_type": "code",
   "execution_count": 9,
   "id": "6fdb80ed",
   "metadata": {},
   "outputs": [
    {
     "data": {
      "text/plain": [
       "False"
      ]
     },
     "execution_count": 9,
     "metadata": {},
     "output_type": "execute_result"
    }
   ],
   "source": [
    "os.path.isdir('assets')"
   ]
  },
  {
   "cell_type": "code",
   "execution_count": 10,
   "id": "2dd0e9d7",
   "metadata": {},
   "outputs": [],
   "source": [
    "os.mkdir('assets')"
   ]
  },
  {
   "cell_type": "code",
   "execution_count": 11,
   "id": "eb8182a9",
   "metadata": {},
   "outputs": [
    {
     "data": {
      "text/plain": [
       "True"
      ]
     },
     "execution_count": 11,
     "metadata": {},
     "output_type": "execute_result"
    }
   ],
   "source": [
    "os.path.isdir('assets')"
   ]
  },
  {
   "cell_type": "code",
   "execution_count": 16,
   "id": "fe3080a9",
   "metadata": {},
   "outputs": [
    {
     "data": {
      "text/plain": [
       "'/Users/roberthsu/Documents/GitHub/pythonWindow/職能發展學院/lesson6_1/assets/oop.txt'"
      ]
     },
     "execution_count": 16,
     "metadata": {},
     "output_type": "execute_result"
    }
   ],
   "source": [
    "abspath = os.path.abspath('./assets/oop.txt')\n",
    "abspath"
   ]
  },
  {
   "cell_type": "code",
   "execution_count": 15,
   "id": "6bd30d87",
   "metadata": {},
   "outputs": [
    {
     "data": {
      "text/plain": [
       "False"
      ]
     },
     "execution_count": 15,
     "metadata": {},
     "output_type": "execute_result"
    }
   ],
   "source": [
    "os.path.isfile(abspath)"
   ]
  },
  {
   "cell_type": "code",
   "execution_count": 17,
   "id": "88275919",
   "metadata": {},
   "outputs": [],
   "source": [
    "file = open(abspath,mode='w',encoding='utf-8')\n",
    "print(\"喔!建立了一個檔案\",file=file)\n",
    "file.close()"
   ]
  }
 ],
 "metadata": {
  "kernelspec": {
   "display_name": "Python 3 (ipykernel)",
   "language": "python",
   "name": "python3"
  },
  "language_info": {
   "codemirror_mode": {
    "name": "ipython",
    "version": 3
   },
   "file_extension": ".py",
   "mimetype": "text/x-python",
   "name": "python",
   "nbconvert_exporter": "python",
   "pygments_lexer": "ipython3",
   "version": "3.10.2"
  }
 },
 "nbformat": 4,
 "nbformat_minor": 5
}
