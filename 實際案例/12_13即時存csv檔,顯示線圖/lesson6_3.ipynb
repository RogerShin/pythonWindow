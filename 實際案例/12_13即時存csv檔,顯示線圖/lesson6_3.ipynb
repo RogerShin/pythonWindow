{
 "cells": [
  {
   "cell_type": "code",
   "execution_count": 3,
   "id": "4861b7ef",
   "metadata": {},
   "outputs": [],
   "source": [
    "import pandas_datareader.data as web\n",
    "import pandas as pd\n",
    "all_data = {ticker: web.get_data_yahoo(ticker) for ticker in ['2330.TW', '2303.TW', '2454.TW', '2317.TW']}\n",
    "price = pd.DataFrame({ticker: data['Adj Close'] for ticker, data in all_data.items()})\n",
    "price.to_csv('./assets/2022-06-25.csv')"
   ]
  },
  {
   "cell_type": "code",
   "execution_count": null,
   "id": "58ed13ef",
   "metadata": {},
   "outputs": [],
   "source": []
  }
 ],
 "metadata": {
  "kernelspec": {
   "display_name": "Python 3 (ipykernel)",
   "language": "python",
   "name": "python3"
  },
  "language_info": {
   "codemirror_mode": {
    "name": "ipython",
    "version": 3
   },
   "file_extension": ".py",
   "mimetype": "text/x-python",
   "name": "python",
   "nbconvert_exporter": "python",
   "pygments_lexer": "ipython3",
   "version": "3.10.2"
  }
 },
 "nbformat": 4,
 "nbformat_minor": 5
}
