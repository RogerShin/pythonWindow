{
 "cells": [
  {
   "cell_type": "code",
   "execution_count": 1,
   "metadata": {},
   "outputs": [],
   "source": [
    "import openpyxl\n",
    "my_wb = openpyxl.Workbook()\n",
    "my_sheet = my_wb.active\n",
    "c1 = my_sheet.cell(row = 1, column = 1)\n",
    "c1.value = \"Maisam\"\n",
    "c2 = my_sheet.cell(row= 1 , column = 2)\n",
    "c2.value = \"Abbas\"\n",
    "c3 = my_sheet['A2']\n",
    "c3.value = \"Excel\"\n",
    "# for B2: column = 2 & row = 2.\n",
    "c4 = my_sheet['B2']\n",
    "c4.value = \"file\"\n",
    "my_wb.save(\"sample_data3.xlsx\")"
   ]
  },
  {
   "cell_type": "code",
   "execution_count": 2,
   "metadata": {},
   "outputs": [],
   "source": [
    "import openpyxl\n",
    "wb = openpyxl.Workbook()\n",
    "sheet = wb.active\n",
    "sheet.title = \"天氣預測表\"\n",
    "sheet.cell(row=1, column=1, value=\"日期-時間\")\n",
    "sheet.cell(row=1, column=2, value=\"溫度\")\n",
    "sheet.cell(row=1, column=3, value=\"狀態\")\n",
    "sheet.cell(row=1, column=4, value=\"濕度\")\n",
    "wb.save('test.xlsx')"
   ]
  }
 ],
 "metadata": {
  "kernelspec": {
   "display_name": "Python 3.10.6 ('venv13')",
   "language": "python",
   "name": "python3"
  },
  "language_info": {
   "codemirror_mode": {
    "name": "ipython",
    "version": 3
   },
   "file_extension": ".py",
   "mimetype": "text/x-python",
   "name": "python",
   "nbconvert_exporter": "python",
   "pygments_lexer": "ipython3",
   "version": "3.10.6"
  },
  "orig_nbformat": 4,
  "vscode": {
   "interpreter": {
    "hash": "17ed27cbaed3f823c7631bed1c0890997a49efc733bc3561cfae9bfe19f678ce"
   }
  }
 },
 "nbformat": 4,
 "nbformat_minor": 2
}
